{
 "cells": [
  {
   "cell_type": "code",
   "execution_count": 1,
   "metadata": {},
   "outputs": [
    {
     "name": "stdout",
     "output_type": "stream",
     "text": [
      "Select file \n",
      "\n",
      "1 = Getting Started With Your Data \n",
      "2 = alpha_and_beta \n",
      "3 = images \n",
      "4 = Gamma Tutorial \n",
      "5 = ERP Tutorial \n",
      "6 = Tour of the GUI \n",
      "7 = Viewing Data Tutorial \n",
      "8 = Alpha Beta Tutorial \n",
      "\n",
      "Your response: 2\n"
     ]
    }
   ],
   "source": [
    "## import os\n",
    "\n",
    "import os\n",
    "os.chdir('/Users/dylandaniels/Documents/github-repos/hnn-tutorials')\n",
    "parentdirectory=os.getcwd()\n",
    "\n",
    "#y=os.listdir()\n",
    "#print(y)\n",
    "\n",
    "y = [f.name for f in os.scandir(parentdirectory) if f.is_dir() and not f.name == '.ipynb_checkpoints' and not f.name == '.git' and not f.name == 'html-styling']  \n",
    "#print(y)\n",
    "\n",
    "leny=len(y)\n",
    "#print(leny)\n",
    "\n",
    "count=1\n",
    "mystring=\"Select file \\n\\n\"\n",
    "for e in y:\n",
    "    mystring += str(count) + \" = \" + e + \" \\n\" \n",
    "    count=count+1\n",
    "mystring+=\"\\nYour response: \"\n",
    "#print(mystring)\n",
    "\n",
    "## prompt user to select file, save file chosen to 'subfile'\n",
    "\n",
    "shift = 0\n",
    "while 1 > shift or leny < shift:\n",
    "    try:\n",
    "        shift = int(input(mystring))\n",
    "    except ValueError:\n",
    "        print('Try again')\n",
    "subfolder = y[shift-1]\n",
    "#print(subfolder)\n",
    "\n",
    "subfolder=os.path.join(parentdirectory,subfolder)\n",
    "#If you cannot assume / to be the folder separator, do this: glob(os.path.join(path_to_directory, \"*\", \"\"))\n",
    "#print(subfolder)"
   ]
  },
  {
   "cell_type": "code",
   "execution_count": 2,
   "metadata": {},
   "outputs": [
    {
     "name": "stdout",
     "output_type": "stream",
     "text": [
      "Select file from the list below \n",
      "\n",
      "1 = alpha_and_beta.html \n",
      "2 = .DS_Store \n",
      "3 = images \n",
      "4 = ab_copy.html \n",
      "5 = alpha_and_beta.md \n",
      "\n",
      "Your response: 4\n",
      "You chose: ab_copy.html\n"
     ]
    }
   ],
   "source": [
    "## change directory to 'subfolder' as defined above\n",
    "\n",
    "os.chdir(subfolder)\n",
    "\n",
    "## save directory contents in list 'x' and save length of list in 'lenx'\n",
    "\n",
    "x = os.listdir()\n",
    "lenx = len(x)\n",
    "#print(lenx)\n",
    "#print(x)\n",
    "\n",
    "## define user prompt based on list 'x' and 'lenx'\n",
    "\n",
    "count=1\n",
    "mystring=\"Select file from the list below \\n\\n\"\n",
    "for e in x:\n",
    "    mystring += str(count) + \" = \" + e + \" \\n\" \n",
    "    count=count+1\n",
    "mystring+=\"\\nYour response: \"\n",
    "#print(mystring)\n",
    "\n",
    "## prompt user to select file, save file chosen to 'subfile'\n",
    "\n",
    "shift2 = 0\n",
    "while 1 > shift2 or lenx < shift2:\n",
    "    try:\n",
    "        shift2 = int(input(mystring))\n",
    "    except ValueError:\n",
    "        print('Try again')\n",
    "subfile = x[shift2-1]\n",
    "print('You chose: '+subfile)"
   ]
  },
  {
   "cell_type": "code",
   "execution_count": 3,
   "metadata": {},
   "outputs": [],
   "source": [
    "## change directory to 'parentdirectory' as defined above; not necessary\n",
    "\n",
    "#os.chdir(parentdirectory)\n",
    "\n",
    "## define file a\n",
    "\n",
    "#htmlheader='/Users/dylandaniels/Documents/github-repos/hnn-tutorials/html-styling/page-setup.html'\n",
    "#print(parentdirectory)\n",
    "headersubfolder='html-styling'\n",
    "headerfile='page-setup.html'\n",
    "htmlheader= os.path.join(parentdirectory,headersubfolder)\n",
    "htmlheader=os.path.join(htmlheader,headerfile)\n",
    "#print(htmlheader)\n",
    "htmlbody= os.path.join(subfolder,subfile)\n",
    "#print(htmlbody)\n",
    "\n",
    "filenames = [htmlheader,htmlbody]\n"
   ]
  },
  {
   "cell_type": "code",
   "execution_count": 4,
   "metadata": {},
   "outputs": [
    {
     "name": "stdout",
     "output_type": "stream",
     "text": [
      "Specify your file name. Include the .html filetype. \n",
      "  Your response: outputtest.html\n"
     ]
    }
   ],
   "source": [
    "outname=input('Specify your file name. Include the .html filetype. \\n  Your response: ')\n",
    "outpath=os.path.join(subfolder,outname)\n",
    "#print(outfile)\n",
    "\n",
    "with open(outpath, 'w') as outfile:\n",
    "    for fname in filenames:\n",
    "        with open(fname) as infile:\n",
    "            for line in infile:\n",
    "                outfile.write(line)"
   ]
  },
  {
   "cell_type": "code",
   "execution_count": null,
   "metadata": {},
   "outputs": [],
   "source": []
  },
  {
   "cell_type": "code",
   "execution_count": null,
   "metadata": {},
   "outputs": [],
   "source": []
  }
 ],
 "metadata": {
  "kernelspec": {
   "display_name": "Python 3",
   "language": "python",
   "name": "python3"
  },
  "language_info": {
   "codemirror_mode": {
    "name": "ipython",
    "version": 3
   },
   "file_extension": ".py",
   "mimetype": "text/x-python",
   "name": "python",
   "nbconvert_exporter": "python",
   "pygments_lexer": "ipython3",
   "version": "3.6.8"
  }
 },
 "nbformat": 4,
 "nbformat_minor": 2
}
